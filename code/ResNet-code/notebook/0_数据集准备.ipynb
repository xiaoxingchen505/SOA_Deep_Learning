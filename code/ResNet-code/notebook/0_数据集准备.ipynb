{
 "cells": [
  {
   "cell_type": "markdown",
   "metadata": {},
   "source": [
    "### ResNet architecture\n",
    "<img src=\"./imgs/arch1.png\"  width=\"700\" height=\"700\" align=\"bottom\" />"
   ]
  },
  {
   "cell_type": "markdown",
   "metadata": {},
   "source": [
    "## 1.2 ResNet 代码结构\n",
    "<img src=\"./imgs/prj_struct.png\"  width=\"300\" height=\"400\" align=\"left\" />"
   ]
  },
  {
   "cell_type": "markdown",
   "metadata": {},
   "source": [
    "# 2 准备工作\n",
    "## 2.1项目环境配置\n",
    " \n",
    "* Python 3.x\n",
    "* jupyter notebook\n",
    "* torch           >1.0\n",
    "* torchsummary    1.5.1\n",
    "* torchvision     0.4.0+cu92\n",
    "* Pillow          6.1.0\n",
    "* numpy           1.17.0\n",
    "* opencv-python   4.1.2.30\n",
    "* imageio 2.6.1\n"
   ]
  },
  {
   "cell_type": "markdown",
   "metadata": {},
   "source": [
    "## 2.2 数据集下载\n",
    "　　Cifar-10 在http://www.cs.toronto.edu/~kriz/cifar.html  上下载\n",
    " \n",
    "### 数据简介\n",
    "The CIFAR-10 dataset consists of 60000 32x32 colour images in 10 classes, with 6000 images per class. There are 50000 training images and 10000 test images.\n",
    "    \n",
    "### 真实样本\n",
    "   \n",
    "<img src=\"./imgs/dataset.png\"  width=\"500\" height=\"500\" align=\"bottom\" /> \n",
    "\n",
    "### 数据存放\n",
    "<img src=\"./imgs/data.png\"  width=\"300\" height=\"700\" align=\"bottom\" /> \n"
   ]
  },
  {
   "cell_type": "markdown",
   "metadata": {},
   "source": [
    "  \n",
    "## 2.3 预训练权重下载\n",
    "    'resnet18': 'https://download.pytorch.org/models/resnet18-5c106cde.pth',\n",
    "    'resnet34': 'https://download.pytorch.org/models/resnet34-333f7ec4.pth',\n",
    "    'resnet50': 'https://download.pytorch.org/models/resnet50-19c8e357.pth',\n",
    "    'resnet101': 'https://download.pytorch.org/models/resnet101-5d3b4d8f.pth',\n",
    "    'resnet152': 'https://download.pytorch.org/models/resnet152-b121ed2d.pth',\n",
    "放到: F:\\cv_paper\\lesson\\F_ResNet\\data"
   ]
  },
  {
   "cell_type": "markdown",
   "metadata": {},
   "source": [
    "# 3 项目代码结构（pycharm中演示）\n",
    "\n",
    "## 3.1 resnet_inference.py\n",
    "    \n",
    "    采用在Imagenet上预训练的ResNet模型进行分类测试 （跳转pycharm，观察效果）\n",
    "\n",
    "\n",
    "## 3.2 train_resnet.py\n",
    "    \n",
    "    构建一个resnet-20，在cifar-10上参照论文中的设置进行训练，达到论文给出的精度（跳转pycharm，观察效果）"
   ]
  },
  {
   "cell_type": "markdown",
   "metadata": {},
   "source": [
    "# 4 算法模块及细节\n",
    "\n",
    "### 4.1  resnet_inference.py中各函数模块详解（跳转 1_inference.ipynb 结合 2_resnet_arch.ipynb讲解ResNet网络结构定义）\n",
    " \n",
    "### 4.2 train_resnet.py 中各函数模块详解（跳转3_train_resnet.ipynb 结合 4_common_tools.ipynb讲解各函数）\n"
   ]
  },
  {
   "cell_type": "markdown",
   "metadata": {},
   "source": [
    "# 5 Pycharm整体演示\n",
    "\n",
    "　　回到pycharm环境中回顾一下项目工程"
   ]
  }
 ],
 "metadata": {
  "colab": {
   "authorship_tag": "ABX9TyMaJPtlMHur6DonwEyZLw5h",
   "collapsed_sections": [],
   "name": "data process and load.ipynb",
   "provenance": []
  },
  "kernelspec": {
   "display_name": "Python 3",
   "language": "python",
   "name": "python3"
  },
  "language_info": {
   "codemirror_mode": {
    "name": "ipython",
    "version": 3
   },
   "file_extension": ".py",
   "mimetype": "text/x-python",
   "name": "python",
   "nbconvert_exporter": "python",
   "pygments_lexer": "ipython3",
   "version": "3.8.8"
  }
 },
 "nbformat": 4,
 "nbformat_minor": 1
}
